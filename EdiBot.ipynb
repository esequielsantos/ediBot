{
  "nbformat": 4,
  "nbformat_minor": 0,
  "metadata": {
    "colab": {
      "provenance": [],
      "authorship_tag": "ABX9TyM1L4y9XfT702jE3UnoLwiF",
      "include_colab_link": true
    },
    "kernelspec": {
      "name": "python3",
      "display_name": "Python 3"
    },
    "language_info": {
      "name": "python"
    }
  },
  "cells": [
    {
      "cell_type": "markdown",
      "metadata": {
        "id": "view-in-github",
        "colab_type": "text"
      },
      "source": [
        "<a href=\"https://colab.research.google.com/github/esequielsantos/ediBot/blob/main/EdiBot.ipynb\" target=\"_parent\"><img src=\"https://colab.research.google.com/assets/colab-badge.svg\" alt=\"Open In Colab\"/></a>"
      ]
    },
    {
      "cell_type": "markdown",
      "source": [
        "Instalar Gemini\n",
        "\n",
        "---\n",
        "\n"
      ],
      "metadata": {
        "id": "HLrsLWuTmTkc"
      }
    },
    {
      "cell_type": "code",
      "execution_count": null,
      "metadata": {
        "id": "rdbMsHHbmMot"
      },
      "outputs": [],
      "source": [
        "!pip install -q -U google-generativeai"
      ]
    },
    {
      "cell_type": "markdown",
      "source": [
        "## Set up my API key\n",
        "\n",
        "To use the Gemini API, you'll need an API key. If you don't already have one, create a key in Google AI Studio.\n",
        "\n",
        "<a class=\"button\" href=\"https://aistudio.google.com/app/apikey\" target=\"_blank\" rel=\"noopener noreferrer\">Get an API key</a>\n",
        "\n",
        "In Colab, add the key to the secrets manager under the \"🔑\" in the left panel. Give it the name `GOOGLE_API_KEY`. Then pass the key to the SDK:\n"
      ],
      "metadata": {
        "id": "3GkRM95ZmZBF"
      }
    },
    {
      "cell_type": "code",
      "source": [
        "import google.generativeai as genai\n",
        "# Used to securely store your API key\n",
        "from google.colab import userdata\n",
        "\n",
        "GOOGLE_API_KEY=userdata.get('GOOGLE_API_KEY')\n",
        "genai.configure(api_key=GOOGLE_API_KEY)"
      ],
      "metadata": {
        "id": "Uwn3IeH9nKcP"
      },
      "execution_count": null,
      "outputs": []
    },
    {
      "cell_type": "markdown",
      "source": [
        "Listar modelos disponiveis\n"
      ],
      "metadata": {
        "id": "60cHJAVPni31"
      }
    },
    {
      "cell_type": "code",
      "source": [
        "for m in genai.list_models():\n",
        "  if 'generateContent' in m.supported_generation_methods:\n",
        "    print(m.name)"
      ],
      "metadata": {
        "colab": {
          "base_uri": "https://localhost:8080/",
          "height": 139
        },
        "id": "3tRmM_KtnnEB",
        "outputId": "76858b53-1ee4-459f-a8b9-7aa0eb3a023b"
      },
      "execution_count": null,
      "outputs": [
        {
          "output_type": "stream",
          "name": "stdout",
          "text": [
            "models/gemini-1.0-pro\n",
            "models/gemini-1.0-pro-001\n",
            "models/gemini-1.0-pro-latest\n",
            "models/gemini-1.0-pro-vision-latest\n",
            "models/gemini-1.5-pro-latest\n",
            "models/gemini-pro\n",
            "models/gemini-pro-vision\n"
          ]
        }
      ]
    },
    {
      "cell_type": "markdown",
      "source": [
        "Configurando o modelo\n",
        "Temperaura:"
      ],
      "metadata": {
        "id": "KITrkVypqeoI"
      }
    },
    {
      "cell_type": "code",
      "source": [
        "gen_config = {\n",
        "    \"candidate_count\": 1,\n",
        "    \"temperature\": 0.5,\n",
        "}"
      ],
      "metadata": {
        "id": "LsLj6QLFqiNO"
      },
      "execution_count": null,
      "outputs": []
    },
    {
      "cell_type": "markdown",
      "source": [
        "Segurança:"
      ],
      "metadata": {
        "id": "pjiAtqjZr91j"
      }
    },
    {
      "cell_type": "code",
      "source": [
        "saf_settings = {\n",
        "    \"HARASSMENT\": \"BLOCK_NONE\",\n",
        "    \"HATE\": \"BLOCK_NONE\",\n",
        "    \"SEXUAL\": \"BLOCK_NONE\",\n",
        "    \"DANGEROUS\": \"BLOCK_NONE\",\n",
        "}"
      ],
      "metadata": {
        "id": "BHt1bL2ErCNW"
      },
      "execution_count": null,
      "outputs": []
    },
    {
      "cell_type": "markdown",
      "source": [
        "Usar **modelo** escolhido acima"
      ],
      "metadata": {
        "id": "7hncyqUspfoH"
      }
    },
    {
      "cell_type": "code",
      "execution_count": null,
      "metadata": {
        "id": "s-JqXcDe2hZ_"
      },
      "outputs": [],
      "source": [
        "model = genai.GenerativeModel(model_name='gemini-1.0-pro-latest', safety_settings= saf_settings, generation_config= gen_config)"
      ]
    },
    {
      "cell_type": "markdown",
      "source": [
        "Enviando mensagem ao modelo"
      ],
      "metadata": {
        "id": "7v_XiF74qFSj"
      }
    },
    {
      "cell_type": "code",
      "source": [
        "response = model.generate_content(\"Estou programndo em Phyton. Sugira 5 opções indispensáveis de conhecermos no aprendizado de Phyton\")\n",
        "#print(model.generate_content(\"Estou programndo em Phyton. Sugira 5 opções indispensáveis de conhecermos no aprendizado de Phyton\").text)"
      ],
      "metadata": {
        "id": "Vya97xSYqOgp"
      },
      "execution_count": null,
      "outputs": []
    },
    {
      "cell_type": "markdown",
      "source": [
        "Exibindo Resposta"
      ],
      "metadata": {
        "id": "BQT5u69dqQzv"
      }
    },
    {
      "cell_type": "code",
      "source": [
        "print(response.text)"
      ],
      "metadata": {
        "colab": {
          "base_uri": "https://localhost:8080/"
        },
        "id": "ZvE1AjS7qUEZ",
        "outputId": "d69c5f35-a461-4f84-9ccd-c91661378bda"
      },
      "execution_count": null,
      "outputs": [
        {
          "output_type": "stream",
          "name": "stdout",
          "text": [
            "5 Opções Indispensáveis para o Aprendizado de Python:\n",
            "\n",
            "1. **Listas de Compreensão:** Uma sintaxe concisa para criar novas listas a partir de elementos existentes, filtrando e transformando-os.\n",
            "2. **Dicionários:** Estruturas de dados que mapeiam chaves para valores, permitindo acesso rápido e fácil a dados com base em chaves.\n",
            "3. **Funções Lambda:** Funções anônimas de uma linha que podem ser usadas como argumentos para outras funções ou armazenadas em variáveis.\n",
            "4. **Geradores:** Objetos iteráveis que produzem valores sob demanda, economizando memória e melhorando a eficiência.\n",
            "5. **Módulos:** Arquivos Python que contêm funções, classes e variáveis que podem ser importados para reutilização em outros programas.\n"
          ]
        }
      ]
    },
    {
      "cell_type": "markdown",
      "source": [
        "\n",
        "\n",
        "> Adicionar aspas INICIANDO O EdiBot\n",
        "\n",
        "**Iniciando**\n",
        "\n"
      ],
      "metadata": {
        "id": "V4lh5-7LtWFe"
      }
    },
    {
      "cell_type": "code",
      "source": [
        "chat = model.start_chat(history=[])"
      ],
      "metadata": {
        "id": "_DQDwtpxthTG"
      },
      "execution_count": null,
      "outputs": []
    },
    {
      "cell_type": "code",
      "source": [
        "from datetime import datetime"
      ],
      "metadata": {
        "id": "hNyByEk5Oa1L"
      },
      "execution_count": null,
      "outputs": []
    },
    {
      "cell_type": "code",
      "source": [
        "def edibot(prompt, history):\n",
        "  if not chat.history:\n",
        "    # Obter o horário atual\n",
        "    agora = datetime.now()\n",
        "\n",
        "    # Extrair a hora do horário atual\n",
        "    hora = agora.hour\n",
        "\n",
        "    # Definir a variável do período do dia\n",
        "    periodo_dia = \"\"\n",
        "\n",
        "    # Verificar o período do dia\n",
        "    if 6 <= hora < 12:\n",
        "      periodo_dia = \"manhã\"\n",
        "    elif 12 <= hora < 18:\n",
        "      periodo_dia = \"tarde\"\n",
        "    else:\n",
        "      periodo_dia = \"noite\"\n",
        "\n",
        "    bemvindo = model.generate_content(f\"Você é um atendente de uma empresa de informatica chamada ByteMe chamado EdiBot. Escreva uma mensagem de saudação de {periodo_dia} e pergunte como pode ajudar\").text\n",
        "    return bemvindo\n",
        "  else:\n",
        "    prompt = prompt.lower()\n",
        "    if prompt == \"history\":\n",
        "        return chat.history\n",
        "    elif 'obrigado' | 'tchau' | 'fim' in prompt:\n",
        "      agradecer = model.generate_content(\"Você é um atendente de uma empresa de informatica chamada ByteMe. Escreva uma mensagem curta de agradecimento por ter entrado em contato\").text\n",
        "      return agradecer\n",
        "    elif prompt == \"next\":\n",
        "      continuar = model.generate_content(\"Escreva uma mensagem curta e agradavél perguntando se deseja mais alguma informação\").text\n",
        "      return continuar\n",
        "    else:\n",
        "      response = chat.send_message(prompt)\n",
        "      return response.text"
      ],
      "metadata": {
        "colab": {
          "base_uri": "https://localhost:8080/",
          "height": 679
        },
        "id": "Cq8A1hWnt0pk",
        "outputId": "8d55393f-85a0-4ab7-e766-a3d46b6ff713"
      },
      "execution_count": null,
      "outputs": [
        {
          "output_type": "stream",
          "name": "stdout",
          "text": [
            "**EdiBot:** Boa tarde! Obrigado por entrar em contato com a ByteMe. Meu nome é EdiBot. Como posso ajudá-lo hoje? \n",
            "\n",
            "quero saber mais sobre o Ryzen 7\n",
            "\n",
            " -  **AMD Ryzen 7**\n",
            "\n",
            "O AMD Ryzen 7 é uma série de processadores de alto desempenho para desktops e laptops. Eles são projetados para oferecer uma combinação de velocidade, eficiência e recursos avançados para uma ampla gama de usuários, incluindo criadores de conteúdo, jogadores e profissionais.\n",
            "\n",
            "**Características do Ryzen 7:**\n",
            "\n",
            "* **Arquitetura Zen:** Baseado na avançada arquitetura Zen da AMD, que oferece alta eficiência e desempenho por watt.\n",
            "* **Vários núcleos e threads:** Os processadores Ryzen 7 possuem um alto número de núcleos e threads, permitindo que eles executem várias tarefas simultaneamente com facilidade.\n",
            "* **Cache grande:** Eles possuem um grande cache L3, o que ajuda a reduzir a latência e melhorar o desempenho geral.\n",
            "* **Suporte a PCIe 4.0:** Os processadores Ryzen 7 suportam a interface PCIe 4.0 de alta velocidade, permitindo que você aproveite os benefícios de dispositivos de armazenamento e placas gráficas mais rápidos.\n",
            "* **Recursos avançados:** Eles oferecem recursos avançados como Precision Boost 2 e XFR 2, que otimizam automaticamente o desempenho e a eficiência com base na carga de trabalho.\n",
            "\n",
            "**Benefícios do Ryzen 7:**\n",
            "\n",
            "* **Desempenho multitarefa excepcional:** Com seu alto número de núcleos e threads, os processadores Ryzen 7 podem lidar facilmente com cargas de trabalho multitarefa exigentes, como edição de vídeo, renderização 3D e jogos.\n",
            "* **Jogos suaves:** Eles oferecem alto desempenho de jogo, permitindo que você aproveite os jogos mais recentes com altas taxas de quadros e configurações gráficas.\n",
            "* **Criação de conteúdo eficiente:** Os processadores Ryzen 7 são ideais para criadores de conteúdo, pois podem acelerar tarefas como edição de vídeo, renderização de imagens e modelagem 3D.\n",
            "* **Eficiência energética:** Apesar de seu alto desempenho, os processadores Ryzen 7 são projetados para serem eficientes em termos de energia, consumindo menos energia do que processadores comparáveis.\n",
            "\n",
            "**Processadores Ryzen 7 populares:**\n",
            "\n",
            "* AMD Ryzen 7 5800X\n",
            "* AMD Ryzen 7 5700G\n",
            "* AMD Ryzen 7 3700X\n",
            "* AMD Ryzen 7 3800XT\n",
            "\n",
            "Se você está procurando um processador de alto desempenho para jogos, criação de conteúdo ou multitarefa exigente, o AMD Ryzen 7 é uma excelente opção. \n",
            "\n",
            "\n",
            "Mais alguma pergunta? [digite fim para sair] \n",
            "\n",
            "fim\n",
            "Agradecemos por entrar em contato com a ByteMe. Estamos ansiosos para ajudá-lo com suas necessidades de TI.\n"
          ]
        }
      ]
    },
    {
      "cell_type": "markdown",
      "source": [
        "Subir para o GitHub"
      ],
      "metadata": {
        "id": "eh6GfbuM1oXq"
      }
    }
  ]
}