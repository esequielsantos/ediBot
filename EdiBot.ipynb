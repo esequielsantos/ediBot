{
  "nbformat": 4,
  "nbformat_minor": 0,
  "metadata": {
    "colab": {
      "provenance": [],
      "authorship_tag": "ABX9TyOgyZZj/idkDjyFmi47ssv3",
      "include_colab_link": true
    },
    "kernelspec": {
      "name": "python3",
      "display_name": "Python 3"
    },
    "language_info": {
      "name": "python"
    }
  },
  "cells": [
    {
      "cell_type": "markdown",
      "metadata": {
        "id": "view-in-github",
        "colab_type": "text"
      },
      "source": [
        "<a href=\"https://colab.research.google.com/github/essoftwares/ediBot/blob/main/EdiBot.ipynb\" target=\"_parent\"><img src=\"https://colab.research.google.com/assets/colab-badge.svg\" alt=\"Open In Colab\"/></a>"
      ]
    },
    {
      "cell_type": "markdown",
      "source": [
        "Instalar Gemini\n",
        "\n",
        "---\n",
        "\n"
      ],
      "metadata": {
        "id": "HLrsLWuTmTkc"
      }
    },
    {
      "cell_type": "code",
      "execution_count": 1,
      "metadata": {
        "id": "rdbMsHHbmMot"
      },
      "outputs": [],
      "source": [
        "!pip install -q -U google-generativeai"
      ]
    },
    {
      "cell_type": "markdown",
      "source": [
        "## Set up my API key\n",
        "\n",
        "To use the Gemini API, you'll need an API key. If you don't already have one, create a key in Google AI Studio.\n",
        "\n",
        "<a class=\"button\" href=\"https://aistudio.google.com/app/apikey\" target=\"_blank\" rel=\"noopener noreferrer\">Get an API key</a>\n",
        "\n",
        "In Colab, add the key to the secrets manager under the \"🔑\" in the left panel. Give it the name `GOOGLE_API_KEY`. Then pass the key to the SDK:\n"
      ],
      "metadata": {
        "id": "3GkRM95ZmZBF"
      }
    },
    {
      "cell_type": "code",
      "source": [
        "import google.generativeai as genai\n",
        "# Used to securely store your API key\n",
        "from google.colab import userdata\n",
        "\n",
        "GOOGLE_API_KEY=userdata.get('GOOGLE_API_KEY')\n",
        "genai.configure(api_key=GOOGLE_API_KEY)"
      ],
      "metadata": {
        "id": "Uwn3IeH9nKcP"
      },
      "execution_count": 38,
      "outputs": []
    },
    {
      "cell_type": "markdown",
      "source": [
        "Listar modelos disponiveis\n"
      ],
      "metadata": {
        "id": "60cHJAVPni31"
      }
    },
    {
      "cell_type": "code",
      "source": [
        "for m in genai.list_models():\n",
        "  if 'generateContent' in m.supported_generation_methods:\n",
        "    print(m.name)"
      ],
      "metadata": {
        "colab": {
          "base_uri": "https://localhost:8080/",
          "height": 139
        },
        "id": "3tRmM_KtnnEB",
        "outputId": "76858b53-1ee4-459f-a8b9-7aa0eb3a023b"
      },
      "execution_count": 5,
      "outputs": [
        {
          "output_type": "stream",
          "name": "stdout",
          "text": [
            "models/gemini-1.0-pro\n",
            "models/gemini-1.0-pro-001\n",
            "models/gemini-1.0-pro-latest\n",
            "models/gemini-1.0-pro-vision-latest\n",
            "models/gemini-1.5-pro-latest\n",
            "models/gemini-pro\n",
            "models/gemini-pro-vision\n"
          ]
        }
      ]
    },
    {
      "cell_type": "markdown",
      "source": [
        "Configurando o modelo\n",
        "Temperaura:"
      ],
      "metadata": {
        "id": "KITrkVypqeoI"
      }
    },
    {
      "cell_type": "code",
      "source": [
        "gen_config = {\n",
        "    \"candidate_count\": 1,\n",
        "    \"temperature\": 0.5,\n",
        "}"
      ],
      "metadata": {
        "id": "LsLj6QLFqiNO"
      },
      "execution_count": 16,
      "outputs": []
    },
    {
      "cell_type": "markdown",
      "source": [
        "Segurança:"
      ],
      "metadata": {
        "id": "pjiAtqjZr91j"
      }
    },
    {
      "cell_type": "code",
      "source": [
        "saf_settings = {\n",
        "    \"HARASSMENT\": \"BLOCK_NONE\",\n",
        "    \"HATE\": \"BLOCK_NONE\",\n",
        "    \"SEXUAL\": \"BLOCK_NONE\",\n",
        "    \"DANGEROUS\": \"BLOCK_NONE\",\n",
        "}"
      ],
      "metadata": {
        "id": "BHt1bL2ErCNW"
      },
      "execution_count": 17,
      "outputs": []
    },
    {
      "cell_type": "markdown",
      "source": [
        "Usar **modelo** escolhido acima"
      ],
      "metadata": {
        "id": "7hncyqUspfoH"
      }
    },
    {
      "cell_type": "code",
      "execution_count": 18,
      "metadata": {
        "id": "s-JqXcDe2hZ_"
      },
      "outputs": [],
      "source": [
        "model = genai.GenerativeModel(model_name='gemini-1.0-pro-latest', safety_settings= saf_settings, generation_config= gen_config)"
      ]
    },
    {
      "cell_type": "markdown",
      "source": [
        "Enviando mensagem ao modelo"
      ],
      "metadata": {
        "id": "7v_XiF74qFSj"
      }
    },
    {
      "cell_type": "code",
      "source": [
        "response = model.generate_content(\"Estou programndo em Phyton. Sugira 5 opções indispensáveis de conhecermos no aprendizado de Phyton\")\n",
        "#print(model.generate_content(\"Estou programndo em Phyton. Sugira 5 opções indispensáveis de conhecermos no aprendizado de Phyton\").text)"
      ],
      "metadata": {
        "id": "Vya97xSYqOgp"
      },
      "execution_count": 31,
      "outputs": []
    },
    {
      "cell_type": "markdown",
      "source": [
        "Exibindo Resposta"
      ],
      "metadata": {
        "id": "BQT5u69dqQzv"
      }
    },
    {
      "cell_type": "code",
      "source": [
        "print(response.text)"
      ],
      "metadata": {
        "colab": {
          "base_uri": "https://localhost:8080/"
        },
        "id": "ZvE1AjS7qUEZ",
        "outputId": "d69c5f35-a461-4f84-9ccd-c91661378bda"
      },
      "execution_count": 20,
      "outputs": [
        {
          "output_type": "stream",
          "name": "stdout",
          "text": [
            "5 Opções Indispensáveis para o Aprendizado de Python:\n",
            "\n",
            "1. **Listas de Compreensão:** Uma sintaxe concisa para criar novas listas a partir de elementos existentes, filtrando e transformando-os.\n",
            "2. **Dicionários:** Estruturas de dados que mapeiam chaves para valores, permitindo acesso rápido e fácil a dados com base em chaves.\n",
            "3. **Funções Lambda:** Funções anônimas de uma linha que podem ser usadas como argumentos para outras funções ou armazenadas em variáveis.\n",
            "4. **Geradores:** Objetos iteráveis que produzem valores sob demanda, economizando memória e melhorando a eficiência.\n",
            "5. **Módulos:** Arquivos Python que contêm funções, classes e variáveis que podem ser importados para reutilização em outros programas.\n"
          ]
        }
      ]
    },
    {
      "cell_type": "markdown",
      "source": [
        "\n",
        "\n",
        "> Adicionar aspas INICIANDO O EdiBot\n",
        "\n",
        "**Iniciando**\n",
        "\n"
      ],
      "metadata": {
        "id": "V4lh5-7LtWFe"
      }
    },
    {
      "cell_type": "code",
      "source": [
        "chat = model.start_chat(history=[])"
      ],
      "metadata": {
        "id": "_DQDwtpxthTG"
      },
      "execution_count": 21,
      "outputs": []
    },
    {
      "cell_type": "code",
      "source": [
        "bemvindo = model.generate_content(\"Você é um atendente de uma empresa de informatica chamada ByteMe chamado EdiBot. Escreva uma mensagem de saudação de acordo com o horário atual e pergunte como pode ajudar\").text\n",
        "prompt = input( bemvindo + ' \\n\\n')\n",
        "while prompt.lower() != \"fim\":\n",
        "  if prompt.lower() == \"history\" :\n",
        "    print(chat.history)\n",
        "  else:\n",
        "    response = chat.send_message(prompt)\n",
        "    print(\"\\n - \", response.text, \"\\n\")\n",
        "  prompt = input('\\nMais alguma pergunta? [digite fim para sair] \\n\\n')\n",
        "agradecer = model.generate_content(\"Você é um atendente de uma empresa de informatica chamada ByteMe. Escreva uma mensagem curta de agradecimento por ter entrado em contato\").text\n",
        "print(agradecer)"
      ],
      "metadata": {
        "colab": {
          "base_uri": "https://localhost:8080/",
          "height": 1000
        },
        "id": "Cq8A1hWnt0pk",
        "outputId": "55955afd-5c50-4577-dee4-c1ef3c3ed88a"
      },
      "execution_count": 36,
      "outputs": [
        {
          "output_type": "stream",
          "name": "stdout",
          "text": [
            "**Manhã:**\n",
            "\n",
            "\"Bom dia! Sou o EdiBot, atendente da ByteMe. Como posso ajudá-lo hoje?\"\n",
            "\n",
            "**Tarde:**\n",
            "\n",
            "\"Boa tarde! Sou o EdiBot, atendente da ByteMe. Em que posso ajudá-lo?\"\n",
            "\n",
            "**Noite:**\n",
            "\n",
            "\"Boa noite! Sou o EdiBot, atendente da ByteMe. Como posso ajudá-lo neste horário?\" \n",
            "\n",
            "Qual o processador mais indicado\n",
            "\n",
            " -  O processador mais indicado para AutoCAD depende da versão do software e da complexidade dos desenhos que você está criando.\n",
            "\n",
            "**Requisitos mínimos de processador:**\n",
            "\n",
            "* AutoCAD 2023: Processador de 2,5 GHz ou mais rápido com suporte a SSE4.1\n",
            "* AutoCAD 2022: Processador de 2,5 GHz ou mais rápido com suporte a SSE4.1\n",
            "* AutoCAD 2021: Processador de 2,5 GHz ou mais rápido com suporte a SSE4.2\n",
            "\n",
            "**Processadores recomendados:**\n",
            "\n",
            "* AutoCAD 2023: Processador Intel Core i7 ou AMD Ryzen 7 ou superior\n",
            "* AutoCAD 2022: Processador Intel Core i7 ou AMD Ryzen 7 ou superior\n",
            "* AutoCAD 2021: Processador Intel Core i9 ou AMD Ryzen 9 ou superior\n",
            "\n",
            "Para desenhos complexos ou uso intenso, é recomendável usar um processador mais rápido com mais núcleos. Isso ajudará a acelerar o processamento e reduzir os tempos de carregamento e renderização.\n",
            "\n",
            "Aqui estão algumas diretrizes gerais sobre os processadores mais indicados para diferentes tipos de uso do AutoCAD:\n",
            "\n",
            "* **Uso básico (desenhos 2D simples):** Processador Intel Core i5 ou AMD Ryzen 5 ou superior\n",
            "* **Uso moderado (desenhos 3D de tamanho médio):** Processador Intel Core i7 ou AMD Ryzen 7 ou superior\n",
            "* **Uso intenso (desenhos 3D complexos, renderização):** Processador Intel Core i9 ou AMD Ryzen 9 ou superior\n",
            "\n",
            "Se você não tiver certeza de qual processador é o mais adequado para suas necessidades, é sempre melhor consultar as especificações recomendadas pela Autodesk ou consultar um profissional de TI. \n",
            "\n",
            "\n",
            "Mais alguma pergunta? [digite fim para sair] \n",
            "\n",
            "history\n",
            "[parts {\n",
            "  text: \"o que mais posso aprender \"\n",
            "}\n",
            "role: \"user\"\n",
            ", parts {\n",
            "  text: \"**Habilidades t\\303\\251cnicas:**\\n\\n* Programa\\303\\247\\303\\243o (Python, Java, C++, etc.)\\n* Ci\\303\\252ncia de dados (an\\303\\241lise de dados, aprendizado de m\\303\\241quina)\\n* Design de UX/UI\\n* Desenvolvimento web (HTML, CSS, JavaScript)\\n* Marketing digital (SEO, SEM, m\\303\\255dia social)\\n* Design gr\\303\\241fico (Photoshop, Illustrator)\\n* Edi\\303\\247\\303\\243o de v\\303\\255deo (Premiere Pro, Final Cut Pro)\\n\\n**Habilidades pessoais:**\\n\\n* Comunica\\303\\247\\303\\243o (escrita, fala, apresenta\\303\\247\\303\\243o)\\n* Trabalho em equipe e colabora\\303\\247\\303\\243o\\n* Resolu\\303\\247\\303\\243o de problemas e pensamento cr\\303\\255tico\\n* Gerenciamento de tempo e prioriza\\303\\247\\303\\243o\\n* Intelig\\303\\252ncia emocional e empatia\\n* Aprendizado cont\\303\\255nuo e curiosidade\\n\\n**Conhecimento do setor:**\\n\\n* Finan\\303\\247as e contabilidade\\n* Sa\\303\\272de e medicina\\n* Educa\\303\\247\\303\\243o\\n* Tecnologia\\n* Marketing e vendas\\n* Log\\303\\255stica e cadeia de suprimentos\\n\\n**Idiomas:**\\n\\n* Ingl\\303\\252s (flu\\303\\252ncia)\\n* Outros idiomas (espanhol, franc\\303\\252s, mandarim, etc.)\\n\\n**Hobbies e interesses:**\\n\\n* M\\303\\272sica (tocar um instrumento, cantar)\\n* Arte (pintura, desenho, escultura)\\n* Esportes (jogar, treinar)\\n* Leitura (fic\\303\\247\\303\\243o, n\\303\\243o fic\\303\\247\\303\\243o)\\n* Viagens e explora\\303\\247\\303\\243o cultural\\n\\n**Outras \\303\\241reas de aprendizado:**\\n\\n* Desenvolvimento pessoal (autoaperfei\\303\\247oamento, defini\\303\\247\\303\\243o de metas)\\n* Finan\\303\\247as pessoais (investimento, planejamento financeiro)\\n* Culin\\303\\241ria (cozinhar, confeitaria)\\n* Fotografia\\n* Jardinagem\\n* Artesanato (tric\\303\\264, croch\\303\\252, marcenaria)\"\n",
            "}\n",
            "role: \"model\"\n",
            ", parts {\n",
            "  text: \"cite mais duas coisas que vou precisar\"\n",
            "}\n",
            "role: \"user\"\n",
            ", parts {\n",
            "  text: \"Al\\303\\251m das habilidades e conhecimentos listados anteriormente, duas coisas adicionais que voc\\303\\252 precisar\\303\\241 s\\303\\243o:\\n\\n* **Motiva\\303\\247\\303\\243o e disciplina:** Aprender requer esfor\\303\\247o e dedica\\303\\247\\303\\243o. Voc\\303\\252 precisar\\303\\241 estar motivado para continuar aprendendo, mesmo quando as coisas ficarem dif\\303\\255ceis. A disciplina ajudar\\303\\241 voc\\303\\252 a criar um h\\303\\241bito de aprendizado e a se manter no caminho certo.\\n* **Acesso a recursos:** Para aprender efetivamente, voc\\303\\252 precisar\\303\\241 de acesso a recursos como livros, cursos online, mentores e comunidades de aprendizado. Certifique-se de ter os recursos necess\\303\\241rios para apoiar sua jornada de aprendizado.\"\n",
            "}\n",
            "role: \"model\"\n",
            ", parts {\n",
            "  text: \"explique bem a primeira opcao inidcada\"\n",
            "}\n",
            "role: \"user\"\n",
            ", parts {\n",
            "  text: \"**Motiva\\303\\247\\303\\243o e disciplina**\\n\\n**Motiva\\303\\247\\303\\243o** \\303\\251 o que nos impulsiona a agir. \\303\\211 a for\\303\\247a interna que nos faz querer aprender e melhorar. A motiva\\303\\247\\303\\243o pode vir de fontes intr\\303\\255nsecas (como o desejo de conhecimento ou crescimento pessoal) ou extr\\303\\255nsecas (como recompensas ou reconhecimento).\\n\\n**Disciplina** \\303\\251 a capacidade de se manter consistente e focado em seus objetivos, mesmo quando as coisas ficam dif\\303\\255ceis. \\303\\211 a pr\\303\\241tica de fazer o que precisa ser feito, mesmo quando n\\303\\243o queremos.\\n\\nPara aprender efetivamente, precisamos de ambas a motiva\\303\\247\\303\\243o e a disciplina. A motiva\\303\\247\\303\\243o nos d\\303\\241 o impulso inicial para come\\303\\247ar a aprender, enquanto a disciplina nos ajuda a superar os desafios e manter o progresso.\\n\\n**Como desenvolver motiva\\303\\247\\303\\243o e disciplina:**\\n\\n* **Identifique seus motivos:** Por que voc\\303\\252 quer aprender? O que voc\\303\\252 espera ganhar com isso? Ter um prop\\303\\263sito claro pode ajud\\303\\241-lo a se manter motivado.\\n* **Defina metas realistas:** Estabele\\303\\247a metas pequenas e alcan\\303\\247\\303\\241veis que voc\\303\\252 possa atingir gradualmente. Isso ajudar\\303\\241 voc\\303\\252 a se sentir um senso de progresso e a se manter motivado.\\n* **Crie um plano de aprendizado:** Divida seu objetivo de aprendizado em etapas menores e gerenci\\303\\241veis. Isso tornar\\303\\241 o processo menos assustador e mais f\\303\\241cil de seguir.\\n* **Encontre um parceiro de aprendizado:** Ter algu\\303\\251m para aprender junto pode fornecer apoio e motiva\\303\\247\\303\\243o.\\n* **Recompense-se:** Celebre seus sucessos, por menores que sejam. Isso ajudar\\303\\241 voc\\303\\252 a se manter motivado e a tornar o aprendizado mais agrad\\303\\241vel.\\n* **Seja persistente:** O aprendizado requer tempo e esfor\\303\\247o. N\\303\\243o desanime se voc\\303\\252 n\\303\\243o vir resultados imediatamente. Continue praticando e voc\\303\\252 eventualmente alcan\\303\\247ar\\303\\241 seus objetivos.\\n\\nLembre-se, a motiva\\303\\247\\303\\243o e a disciplina s\\303\\243o habilidades que podem ser aprendidas e aprimoradas com o tempo. Ao desenvolver essas qualidades, voc\\303\\252 pode se tornar um aprendiz mais eficaz e alcan\\303\\247ar seus objetivos de aprendizado.\"\n",
            "}\n",
            "role: \"model\"\n",
            ", parts {\n",
            "  text: \"history\"\n",
            "}\n",
            "role: \"user\"\n",
            ", parts {\n",
            "  text: \"**Hist\\303\\263ria** \\303\\251 o estudo do passado humano, desde os primeiros homin\\303\\255deos at\\303\\251 os tempos modernos. Ela abrange uma ampla gama de t\\303\\263picos, incluindo:\\n\\n* **Hist\\303\\263ria pol\\303\\255tica:** Estuda o desenvolvimento de sistemas pol\\303\\255ticos, governos e rela\\303\\247\\303\\265es internacionais.\\n* **Hist\\303\\263ria social:** Explora a vida cotidiana das pessoas, incluindo suas culturas, cren\\303\\247as, valores e institui\\303\\247\\303\\265es sociais.\\n* **Hist\\303\\263ria econ\\303\\264mica:** Examina o desenvolvimento de sistemas econ\\303\\264micos, produ\\303\\247\\303\\243o, distribui\\303\\247\\303\\243o e consumo de bens e servi\\303\\247os.\\n* **Hist\\303\\263ria cultural:** Estuda o desenvolvimento das artes, literatura, m\\303\\272sica, filosofia e religi\\303\\243o.\\n* **Hist\\303\\263ria militar:** Foca em guerras, conflitos e o desenvolvimento de estrat\\303\\251gias e tecnologias militares.\\n* **Hist\\303\\263ria ambiental:** Investiga a intera\\303\\247\\303\\243o entre humanos e seu ambiente, incluindo o impacto das atividades humanas no planeta.\\n\\n**Import\\303\\242ncia da hist\\303\\263ria:**\\n\\n* **Compreender o presente:** A hist\\303\\263ria nos ajuda a entender como o mundo atual se tornou o que \\303\\251, fornecendo contexto para eventos e tend\\303\\252ncias atuais.\\n* **Aprender com o passado:** Estudar a hist\\303\\263ria pode nos ensinar li\\303\\247\\303\\265es valiosas sobre os erros e sucessos do passado, ajudando-nos a evitar erros semelhantes e a tomar decis\\303\\265es mais informadas.\\n* **Desenvolver habilidades cr\\303\\255ticas:** A hist\\303\\263ria requer habilidades cr\\303\\255ticas de pensamento, an\\303\\241lise e interpreta\\303\\247\\303\\243o, que s\\303\\243o valiosas em muitas \\303\\241reas da vida.\\n* **Ampliar a perspectiva:** Aprender sobre diferentes culturas e per\\303\\255odos hist\\303\\263ricos nos ajuda a ampliar nossa perspectiva e a entender melhor o mundo ao nosso redor.\\n* **Apreciar a diversidade:** A hist\\303\\263ria nos exp\\303\\265e a diferentes culturas, cren\\303\\247as e valores, promovendo a toler\\303\\242ncia e a compreens\\303\\243o.\\n\\n**Como estudar hist\\303\\263ria:**\\n\\n* **Ler livros e artigos:** Leia obras de historiadores respeitados para obter uma compreens\\303\\243o abrangente de diferentes per\\303\\255odos e t\\303\\263picos hist\\303\\263ricos.\\n* **Participar de palestras e workshops:** Assistir a palestras e workshops pode fornecer insights valiosos e oportunidades para discutir ideias com especialistas.\\n* **Visitar museus e locais hist\\303\\263ricos:** Visitar museus e locais hist\\303\\263ricos pode tornar a hist\\303\\263ria mais tang\\303\\255vel e envolvente.\\n* **Assistir a document\\303\\241rios e filmes:** Document\\303\\241rios e filmes podem fornecer uma perspectiva visual e envolvente sobre eventos hist\\303\\263ricos.\\n* **Fazer pesquisas:** Conduzir pesquisas independentes pode ajud\\303\\241-lo a aprofundar seu conhecimento sobre t\\303\\263picos espec\\303\\255ficos de interesse.\"\n",
            "}\n",
            "role: \"model\"\n",
            ", parts {\n",
            "  text: \"vou comecar com Gemini. O que preciso saber antes de come\\303\\247ar?\"\n",
            "}\n",
            "role: \"user\"\n",
            ", parts {\n",
            "  text: \"Antes de come\\303\\247ar a usar o Gemini, aqui est\\303\\243o algumas coisas que voc\\303\\252 precisa saber:\\n\\n**O que \\303\\251 Gemini?**\\n\\nGemini \\303\\251 um protocolo de mensagens descentralizado e de c\\303\\263digo aberto que prioriza privacidade e seguran\\303\\247a. Ele permite que os usu\\303\\241rios enviem mensagens criptografadas de ponta a ponta, sem a necessidade de um servidor central.\\n\\n**Como funciona o Gemini?**\\n\\nGemini usa criptografia de chave p\\303\\272blica para proteger as mensagens. Quando voc\\303\\252 envia uma mensagem para algu\\303\\251m, sua mensagem \\303\\251 criptografada usando a chave p\\303\\272blica do destinat\\303\\241rio. Somente o destinat\\303\\241rio pode descriptografar a mensagem usando sua chave privada.\\n\\n**Recursos do Gemini:**\\n\\n* **Mensagens criptografadas de ponta a ponta:** Todas as mensagens s\\303\\243o criptografadas antes de serem enviadas, garantindo que apenas o remetente e o destinat\\303\\241rio possam l\\303\\252-las.\\n* **Sem servidor central:** Gemini n\\303\\243o depende de um servidor central, o que significa que seus dados n\\303\\243o s\\303\\243o armazenados ou controlados por terceiros.\\n* **C\\303\\263digo aberto:** O c\\303\\263digo-fonte do Gemini est\\303\\241 dispon\\303\\255vel publicamente, permitindo que qualquer pessoa examine e verifique sua seguran\\303\\247a.\\n* **Multiplataforma:** Gemini est\\303\\241 dispon\\303\\255vel para uma variedade de plataformas, incluindo iOS, Android, Windows, macOS e Linux.\\n\\n**Como come\\303\\247ar a usar o Gemini:**\\n\\n1. **Baixe e instale um aplicativo Gemini:** Existem v\\303\\241rios aplicativos Gemini dispon\\303\\255veis, como Element, Briar e Session.\\n2. **Crie uma conta:** Crie uma conta com um nome de usu\\303\\241rio e senha.\\n3. **Adicione contatos:** Adicione os contatos com os quais deseja se comunicar.\\n4. **Comece a enviar mensagens:** Comece a enviar mensagens seguras e criptografadas para seus contatos.\\n\\n**Dicas para usar o Gemini:**\\n\\n* **Use senhas fortes:** Use senhas fortes e exclusivas para sua conta Gemini.\\n* **Fa\\303\\247a backup de sua chave privada:** Fa\\303\\247a backup de sua chave privada em um local seguro. Se voc\\303\\252 perder sua chave privada, n\\303\\243o poder\\303\\241 mais acessar suas mensagens.\\n* **Esteja ciente dos riscos:** Embora o Gemini seja seguro, \\303\\251 importante estar ciente dos riscos potenciais associados a qualquer aplicativo de mensagens. Por exemplo, as mensagens podem ser interceptadas se o dispositivo do destinat\\303\\241rio estiver comprometido.\"\n",
            "}\n",
            "role: \"model\"\n",
            ", parts {\n",
            "  text: \"Preciso um notebook novo. O que preciso saber antes de comprar um?\"\n",
            "}\n",
            "role: \"user\"\n",
            ", parts {\n",
            "  text: \"Antes de comprar um notebook novo, aqui est\\303\\243o algumas coisas que voc\\303\\252 precisa saber:\\n\\n**1. Finalidade:** Determine para que voc\\303\\252 usar\\303\\241 principalmente o notebook. Isso ajudar\\303\\241 voc\\303\\252 a identificar os recursos e especifica\\303\\247\\303\\265es necess\\303\\241rios.\\n\\n**2. Tamanho da tela:** Considere o tamanho da tela que melhor atende \\303\\240s suas necessidades. Telas maiores s\\303\\243o \\303\\263timas para multitarefa e entretenimento, enquanto telas menores s\\303\\243o mais port\\303\\241teis.\\n\\n**3. Resolu\\303\\247\\303\\243o da tela:** A resolu\\303\\247\\303\\243o da tela determina a nitidez e a clareza da imagem. Quanto maior a resolu\\303\\247\\303\\243o, melhor ser\\303\\241 a qualidade da imagem.\\n\\n**4. Tipo de tela:** Existem diferentes tipos de telas dispon\\303\\255veis, como LCD, LED e OLED. Cada tipo tem suas pr\\303\\263prias vantagens e desvantagens.\\n\\n**5. Processador:** O processador \\303\\251 o c\\303\\251rebro do notebook. Ele determina a velocidade e o desempenho geral. Considere a velocidade do processador e o n\\303\\272mero de n\\303\\272cleos.\\n\\n**6. Mem\\303\\263ria RAM:** A RAM armazena dados tempor\\303\\241rios e instru\\303\\247\\303\\265es que o processador est\\303\\241 usando. Mais RAM permite que o notebook execute mais tarefas simultaneamente.\\n\\n**7. Armazenamento:** O armazenamento determina a quantidade de dados que voc\\303\\252 pode armazenar no notebook. Considere o tipo de armazenamento (HDD ou SSD) e a capacidade.\\n\\n**8. Placa gr\\303\\241fica:** A placa gr\\303\\241fica \\303\\251 respons\\303\\241vel por processar gr\\303\\241ficos. Se voc\\303\\252 planeja usar o notebook para jogos ou edi\\303\\247\\303\\243o de v\\303\\255deo, precisar\\303\\241 de uma placa gr\\303\\241fica dedicada.\\n\\n**9. Bateria:** A dura\\303\\247\\303\\243o da bateria determina quanto tempo o notebook pode funcionar sem ser conectado. Considere a capacidade da bateria e a efici\\303\\252ncia energ\\303\\251tica do notebook.\\n\\n**10. Sistema operacional:** Escolha um sistema operacional que atenda \\303\\240s suas necessidades e prefer\\303\\252ncias. Os sistemas operacionais comuns incluem Windows, macOS e Chrome OS.\\n\\n**11. Recursos adicionais:** Considere recursos adicionais que podem ser importantes para voc\\303\\252, como webcam, microfone, teclado retroiluminado e portas USB.\\n\\n**12. Pre\\303\\247o:** Defina um or\\303\\247amento antes de come\\303\\247ar a comprar. Os pre\\303\\247os dos notebooks variam muito dependendo dos recursos e especifica\\303\\247\\303\\265es.\"\n",
            "}\n",
            "role: \"model\"\n",
            ", parts {\n",
            "  text: \"Para usar o Autocad, quanto de mem\\303\\263ria \\303\\251 necess\\303\\241rio ?\"\n",
            "}\n",
            "role: \"user\"\n",
            ", parts {\n",
            "  text: \"A quantidade de mem\\303\\263ria (RAM) necess\\303\\241ria para usar o AutoCAD varia dependendo da vers\\303\\243o do software e da complexidade dos desenhos que voc\\303\\252 est\\303\\241 criando.\\n\\n**Requisitos m\\303\\255nimos de RAM:**\\n\\n* AutoCAD 2023: 8 GB\\n* AutoCAD 2022: 8 GB\\n* AutoCAD 2021: 16 GB\\n\\n**Requisitos recomendados de RAM:**\\n\\n* AutoCAD 2023: 16 GB ou mais\\n* AutoCAD 2022: 16 GB ou mais\\n* AutoCAD 2021: 32 GB ou mais\\n\\nPara desenhos complexos ou uso intenso, \\303\\251 recomend\\303\\241vel ter mais RAM do que os requisitos m\\303\\255nimos. Isso ajudar\\303\\241 a garantir um desempenho suave e evitar\\303\\241 atrasos ou travamentos.\\n\\nAl\\303\\251m da RAM, tamb\\303\\251m \\303\\251 importante considerar a velocidade da RAM. A RAM mais r\\303\\241pida (medida em MHz) permitir\\303\\241 que o AutoCAD funcione com mais efici\\303\\252ncia.\\n\\nAqui est\\303\\243o algumas diretrizes gerais sobre a quantidade de RAM necess\\303\\241ria para diferentes tipos de uso do AutoCAD:\\n\\n* **Uso b\\303\\241sico (desenhos 2D simples):** 8-16 GB de RAM\\n* **Uso moderado (desenhos 3D de tamanho m\\303\\251dio):** 16-32 GB de RAM\\n* **Uso intenso (desenhos 3D complexos, renderiza\\303\\247\\303\\243o):** 32 GB de RAM ou mais\\n\\nSe voc\\303\\252 n\\303\\243o tiver certeza de quanta RAM precisa, \\303\\251 sempre melhor errar por excesso de cautela e obter mais RAM do que o necess\\303\\241rio.\"\n",
            "}\n",
            "role: \"model\"\n",
            ", parts {\n",
            "  text: \"Qual o processador mais indicado\"\n",
            "}\n",
            "role: \"user\"\n",
            ", parts {\n",
            "  text: \"O processador mais indicado para AutoCAD depende da vers\\303\\243o do software e da complexidade dos desenhos que voc\\303\\252 est\\303\\241 criando.\\n\\n**Requisitos m\\303\\255nimos de processador:**\\n\\n* AutoCAD 2023: Processador de 2,5 GHz ou mais r\\303\\241pido com suporte a SSE4.1\\n* AutoCAD 2022: Processador de 2,5 GHz ou mais r\\303\\241pido com suporte a SSE4.1\\n* AutoCAD 2021: Processador de 2,5 GHz ou mais r\\303\\241pido com suporte a SSE4.2\\n\\n**Processadores recomendados:**\\n\\n* AutoCAD 2023: Processador Intel Core i7 ou AMD Ryzen 7 ou superior\\n* AutoCAD 2022: Processador Intel Core i7 ou AMD Ryzen 7 ou superior\\n* AutoCAD 2021: Processador Intel Core i9 ou AMD Ryzen 9 ou superior\\n\\nPara desenhos complexos ou uso intenso, \\303\\251 recomend\\303\\241vel usar um processador mais r\\303\\241pido com mais n\\303\\272cleos. Isso ajudar\\303\\241 a acelerar o processamento e reduzir os tempos de carregamento e renderiza\\303\\247\\303\\243o.\\n\\nAqui est\\303\\243o algumas diretrizes gerais sobre os processadores mais indicados para diferentes tipos de uso do AutoCAD:\\n\\n* **Uso b\\303\\241sico (desenhos 2D simples):** Processador Intel Core i5 ou AMD Ryzen 5 ou superior\\n* **Uso moderado (desenhos 3D de tamanho m\\303\\251dio):** Processador Intel Core i7 ou AMD Ryzen 7 ou superior\\n* **Uso intenso (desenhos 3D complexos, renderiza\\303\\247\\303\\243o):** Processador Intel Core i9 ou AMD Ryzen 9 ou superior\\n\\nSe voc\\303\\252 n\\303\\243o tiver certeza de qual processador \\303\\251 o mais adequado para suas necessidades, \\303\\251 sempre melhor consultar as especifica\\303\\247\\303\\265es recomendadas pela Autodesk ou consultar um profissional de TI.\"\n",
            "}\n",
            "role: \"model\"\n",
            "]\n",
            "\n",
            "Mais alguma pergunta? [digite fim para sair] \n",
            "\n",
            "fim\n",
            "Obrigado por entrar em contato com a ByteMe. Agradecemos seu interesse em nossos serviços de informática. Entraremos em contato em breve para discutir suas necessidades e como podemos ajudá-lo.\n"
          ]
        }
      ]
    },
    {
      "cell_type": "markdown",
      "source": [
        "Subir para o GitHub"
      ],
      "metadata": {
        "id": "eh6GfbuM1oXq"
      }
    }
  ]
}