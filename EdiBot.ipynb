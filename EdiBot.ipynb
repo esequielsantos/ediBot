{
  "nbformat": 4,
  "nbformat_minor": 0,
  "metadata": {
    "colab": {
      "provenance": [],
      "authorship_tag": "ABX9TyMslK2JyPRjakeADtPSUT5X",
      "include_colab_link": true
    },
    "kernelspec": {
      "name": "python3",
      "display_name": "Python 3"
    },
    "language_info": {
      "name": "python"
    }
  },
  "cells": [
    {
      "cell_type": "markdown",
      "metadata": {
        "id": "view-in-github",
        "colab_type": "text"
      },
      "source": [
        "<a href=\"https://colab.research.google.com/github/esequielsantos/ediBot/blob/main/EdiBot.ipynb\" target=\"_parent\"><img src=\"https://colab.research.google.com/assets/colab-badge.svg\" alt=\"Open In Colab\"/></a>"
      ]
    },
    {
      "cell_type": "markdown",
      "source": [
        "Instalar Gemini\n",
        "\n",
        "---\n",
        "\n"
      ],
      "metadata": {
        "id": "HLrsLWuTmTkc"
      }
    },
    {
      "cell_type": "code",
      "execution_count": 2,
      "metadata": {
        "id": "rdbMsHHbmMot"
      },
      "outputs": [],
      "source": [
        "!pip install -U google-generativeai"
      ]
    },
    {
      "cell_type": "markdown",
      "source": [
        "## Set up my API key\n",
        "\n",
        "To use the Gemini API, you'll need an API key. If you don't already have one, create a key in Google AI Studio.\n",
        "\n",
        "<a class=\"button\" href=\"https://aistudio.google.com/app/apikey\" target=\"_blank\" rel=\"noopener noreferrer\">Get an API key</a>\n",
        "\n",
        "In Colab, add the key to the secrets manager under the \"🔑\" in the left panel. Give it the name `GOOGLE_API_KEY`. Then pass the key to the SDK:\n"
      ],
      "metadata": {
        "id": "3GkRM95ZmZBF"
      }
    },
    {
      "cell_type": "code",
      "source": [
        "import google.generativeai as genai\n",
        "# Used to securely store your API key\n",
        "from google.colab import userdata\n",
        "\n",
        "GOOGLE_API_KEY=userdata.get('GOOGLE_API_KEY')\n",
        "genai.configure(api_key=GOOGLE_API_KEY)"
      ],
      "metadata": {
        "id": "Uwn3IeH9nKcP"
      },
      "execution_count": 3,
      "outputs": []
    },
    {
      "cell_type": "markdown",
      "source": [
        "Listar modelos disponiveis\n"
      ],
      "metadata": {
        "id": "60cHJAVPni31"
      }
    },
    {
      "cell_type": "code",
      "source": [
        "for m in genai.list_models():\n",
        "  if 'generateContent' in m.supported_generation_methods:\n",
        "    print(m.name)"
      ],
      "metadata": {
        "colab": {
          "base_uri": "https://localhost:8080/",
          "height": 139
        },
        "id": "3tRmM_KtnnEB",
        "outputId": "5e1c11a7-01c1-43f1-e5bf-bafdec752781"
      },
      "execution_count": 4,
      "outputs": [
        {
          "output_type": "stream",
          "name": "stdout",
          "text": [
            "models/gemini-1.0-pro\n",
            "models/gemini-1.0-pro-001\n",
            "models/gemini-1.0-pro-latest\n",
            "models/gemini-1.0-pro-vision-latest\n",
            "models/gemini-1.5-pro-latest\n",
            "models/gemini-pro\n",
            "models/gemini-pro-vision\n"
          ]
        }
      ]
    },
    {
      "cell_type": "markdown",
      "source": [
        "Configurando o modelo\n",
        "Temperaura:"
      ],
      "metadata": {
        "id": "KITrkVypqeoI"
      }
    },
    {
      "cell_type": "code",
      "source": [
        "gen_config = {\n",
        "    \"candidate_count\": 1,\n",
        "    \"temperature\": 0.5,\n",
        "}"
      ],
      "metadata": {
        "id": "LsLj6QLFqiNO"
      },
      "execution_count": 5,
      "outputs": []
    },
    {
      "cell_type": "markdown",
      "source": [
        "Segurança:"
      ],
      "metadata": {
        "id": "pjiAtqjZr91j"
      }
    },
    {
      "cell_type": "code",
      "source": [
        "saf_settings = {\n",
        "    \"HARASSMENT\": \"BLOCK_NONE\",\n",
        "    \"HATE\": \"BLOCK_NONE\",\n",
        "    \"SEXUAL\": \"BLOCK_NONE\",\n",
        "    \"DANGEROUS\": \"BLOCK_NONE\",\n",
        "}"
      ],
      "metadata": {
        "id": "BHt1bL2ErCNW"
      },
      "execution_count": 6,
      "outputs": []
    },
    {
      "cell_type": "markdown",
      "source": [
        "Usar **modelo** escolhido acima"
      ],
      "metadata": {
        "id": "7hncyqUspfoH"
      }
    },
    {
      "cell_type": "code",
      "execution_count": 7,
      "metadata": {
        "id": "s-JqXcDe2hZ_"
      },
      "outputs": [],
      "source": [
        "model = genai.GenerativeModel(model_name='gemini-1.0-pro-latest', safety_settings= saf_settings, generation_config= gen_config)"
      ]
    },
    {
      "cell_type": "markdown",
      "source": [
        "Enviando mensagem ao modelo"
      ],
      "metadata": {
        "id": "7v_XiF74qFSj"
      }
    },
    {
      "cell_type": "code",
      "source": [
        "response = model.generate_content(\"Estou programndo em Phyton. Sugira 5 opções indispensáveis de conhecermos no aprendizado de Phyton\")\n",
        "#print(model.generate_content(\"Estou programndo em Phyton. Sugira 5 opções indispensáveis de conhecermos no aprendizado de Phyton\").text)"
      ],
      "metadata": {
        "id": "Vya97xSYqOgp"
      },
      "execution_count": null,
      "outputs": []
    },
    {
      "cell_type": "markdown",
      "source": [
        "Exibindo Resposta"
      ],
      "metadata": {
        "id": "BQT5u69dqQzv"
      }
    },
    {
      "cell_type": "code",
      "source": [
        "print(response.text)"
      ],
      "metadata": {
        "colab": {
          "base_uri": "https://localhost:8080/"
        },
        "id": "ZvE1AjS7qUEZ",
        "outputId": "d69c5f35-a461-4f84-9ccd-c91661378bda"
      },
      "execution_count": null,
      "outputs": [
        {
          "output_type": "stream",
          "name": "stdout",
          "text": [
            "5 Opções Indispensáveis para o Aprendizado de Python:\n",
            "\n",
            "1. **Listas de Compreensão:** Uma sintaxe concisa para criar novas listas a partir de elementos existentes, filtrando e transformando-os.\n",
            "2. **Dicionários:** Estruturas de dados que mapeiam chaves para valores, permitindo acesso rápido e fácil a dados com base em chaves.\n",
            "3. **Funções Lambda:** Funções anônimas de uma linha que podem ser usadas como argumentos para outras funções ou armazenadas em variáveis.\n",
            "4. **Geradores:** Objetos iteráveis que produzem valores sob demanda, economizando memória e melhorando a eficiência.\n",
            "5. **Módulos:** Arquivos Python que contêm funções, classes e variáveis que podem ser importados para reutilização em outros programas.\n"
          ]
        }
      ]
    },
    {
      "cell_type": "markdown",
      "source": [
        "\n",
        "\n",
        "> Adicionar aspas INICIANDO O EdiBot\n",
        "\n",
        "**Iniciando**\n",
        "\n"
      ],
      "metadata": {
        "id": "V4lh5-7LtWFe"
      }
    },
    {
      "cell_type": "code",
      "source": [
        "chat = model.start_chat(history=[])"
      ],
      "metadata": {
        "id": "_DQDwtpxthTG"
      },
      "execution_count": 17,
      "outputs": []
    },
    {
      "cell_type": "code",
      "source": [
        "from datetime import datetime"
      ],
      "metadata": {
        "id": "hNyByEk5Oa1L"
      },
      "execution_count": 18,
      "outputs": []
    },
    {
      "cell_type": "code",
      "source": [
        "def edibot(prompt, history):\n",
        "  if not chat.history:\n",
        "    # Obter o horário atual\n",
        "    agora = datetime.now()\n",
        "\n",
        "    # Extrair a hora do horário atual\n",
        "    hora = agora.hour\n",
        "\n",
        "    # Definir a variável do período do dia\n",
        "    periodo_dia = \"\"\n",
        "\n",
        "    # Verificar o período do dia\n",
        "    if 6 <= hora < 12:\n",
        "      periodo_dia = \"manhã\"\n",
        "    elif 12 <= hora < 18:\n",
        "      periodo_dia = \"tarde\"\n",
        "    else:\n",
        "      periodo_dia = \"noite\"\n",
        "\n",
        "    bemvindo = model.generate_content(f\"Você é um atendente de uma empresa de informatica chamada ByteMe chamado EdiBot. Escreva uma mensagem de saudação de {periodo_dia} \").text\n",
        "    response = chat.send_message(prompt)\n",
        "    return bemvindo + '\\n\\n-----------------------\\n' + response.text\n",
        "  else:\n",
        "    prompt = prompt.lower()\n",
        "    agradecer = model.generate_content(\"Você é um atendente de uma empresa de informatica chamada ByteMe. Escreva uma mensagem curta de agradecimento por ter entrado em contato\").text\n",
        "    if prompt == \"history\":\n",
        "        return chat.history\n",
        "    elif 'obrigado' in prompt:\n",
        "      return agradecer\n",
        "    elif 'tchau' in prompt:\n",
        "      return agradecer\n",
        "    elif 'fim' in prompt:\n",
        "      return agradecer\n",
        "    elif prompt == \"next\":\n",
        "      continuar = model.generate_content(\"Escreva uma mensagem curta e agradavél perguntando se deseja mais alguma informação\").text\n",
        "      return continuar\n",
        "    else:\n",
        "      response = chat.send_message(prompt)\n",
        "      return response.text"
      ],
      "metadata": {
        "id": "Cq8A1hWnt0pk"
      },
      "execution_count": 21,
      "outputs": []
    },
    {
      "cell_type": "markdown",
      "source": [
        "Teste da funcao inteligente"
      ],
      "metadata": {
        "id": "4SDZSZk_RB-S"
      }
    },
    {
      "cell_type": "code",
      "source": [
        "print(edibot(\"Bom dia, preciso de um computador novo para jogar\", []))"
      ],
      "metadata": {
        "colab": {
          "base_uri": "https://localhost:8080/",
          "height": 920
        },
        "id": "ZdcpNSQ5REXK",
        "outputId": "165466ff-a275-4ab9-e5d7-96d6a7296775"
      },
      "execution_count": 20,
      "outputs": [
        {
          "output_type": "stream",
          "name": "stdout",
          "text": [
            "Olá! Seja muito bem-vindo(a) à ByteMe, sou o EdiBot, seu atendente virtual. Como posso ajudá-lo(a) nesta tarde?\n",
            "\n",
            "-----------------------**Requisitos para um Novo Computador**\n",
            "\n",
            "**Uso Pretendido:**\n",
            "* Quais tarefas você pretende realizar no computador? (Trabalho, estudos, jogos, edição de vídeo, etc.)\n",
            "\n",
            "**Orçamento:**\n",
            "* Quanto você está disposto a gastar em um novo computador?\n",
            "\n",
            "**Especificações Recomendadas:**\n",
            "\n",
            "**Processador (CPU):**\n",
            "* Intel Core i5 ou i7 (11ª geração ou superior)\n",
            "* AMD Ryzen 5 ou 7 (5000 Series ou superior)\n",
            "\n",
            "**Memória RAM:**\n",
            "* 8 GB (mínimo)\n",
            "* 16 GB (recomendado)\n",
            "\n",
            "**Armazenamento:**\n",
            "* SSD de 512 GB (mínimo)\n",
            "* SSD de 1 TB (recomendado)\n",
            "\n",
            "**Placa Gráfica (GPU):**\n",
            "* Para jogos: NVIDIA GeForce GTX 1650 ou superior\n",
            "* Para edição de vídeo: NVIDIA GeForce RTX 3050 ou superior\n",
            "\n",
            "**Sistema Operacional:**\n",
            "* Windows 11 (recomendado)\n",
            "* macOS (para usuários Apple)\n",
            "\n",
            "**Outros Recursos:**\n",
            "* Tela: 15-17 polegadas com resolução Full HD (1920x1080)\n",
            "* Teclado e mouse ergonômicos\n",
            "* Conectividade: Wi-Fi 6, Bluetooth 5.0\n",
            "* Bateria: 8 horas ou mais (para laptops)\n",
            "\n",
            "**Marcas Recomendadas:**\n",
            "* Apple\n",
            "* Dell\n",
            "* HP\n",
            "* Lenovo\n",
            "* MSI\n",
            "\n",
            "**Dicas para Escolher um Computador:**\n",
            "\n",
            "* Considere suas necessidades específicas e orçamento.\n",
            "* Pesquise diferentes modelos e compare especificações.\n",
            "* Leia avaliações de usuários para obter insights sobre desempenho e confiabilidade.\n",
            "* Verifique as garantias e o suporte ao cliente oferecidos.\n",
            "* Compre em revendedores confiáveis para garantir a qualidade e o atendimento ao cliente.\n"
          ]
        }
      ]
    },
    {
      "cell_type": "code",
      "source": [
        "print(edibot(\"Bom dia, preciso de um computador novo para jogar\", []))"
      ],
      "metadata": {
        "id": "zGtokvRyUZ4J",
        "outputId": "211b21ac-38c5-4372-ee5f-34cad0f1d964",
        "colab": {
          "base_uri": "https://localhost:8080/",
          "height": 816
        }
      },
      "execution_count": 22,
      "outputs": [
        {
          "output_type": "stream",
          "name": "stdout",
          "text": [
            "**Requisitos para um Computador para Jogos**\n",
            "\n",
            "**Especificações Recomendadas:**\n",
            "\n",
            "**Processador (CPU):**\n",
            "* Intel Core i5 ou i7 (12ª geração ou superior)\n",
            "* AMD Ryzen 5 ou 7 (5000 Series ou superior)\n",
            "\n",
            "**Memória RAM:**\n",
            "* 16 GB (mínimo)\n",
            "* 32 GB (recomendado)\n",
            "\n",
            "**Armazenamento:**\n",
            "* SSD de 1 TB (mínimo)\n",
            "* SSD NVMe de 2 TB (recomendado)\n",
            "\n",
            "**Placa Gráfica (GPU):**\n",
            "* NVIDIA GeForce RTX 3060 ou superior\n",
            "* AMD Radeon RX 6600 XT ou superior\n",
            "\n",
            "**Sistema Operacional:**\n",
            "* Windows 11 (recomendado)\n",
            "\n",
            "**Outros Recursos:**\n",
            "\n",
            "* Tela: 15-17 polegadas com resolução Full HD (1920x1080) ou superior\n",
            "* Taxa de atualização: 144 Hz ou superior\n",
            "* Teclado e mouse para jogos\n",
            "* Conectividade: Wi-Fi 6, Bluetooth 5.0\n",
            "* Refrigeração: Sistema de resfriamento eficiente\n",
            "\n",
            "**Marcas Recomendadas:**\n",
            "\n",
            "* Alienware\n",
            "* ASUS ROG\n",
            "* Corsair\n",
            "* MSI\n",
            "* Razer\n",
            "\n",
            "**Dicas para Escolher um Computador para Jogos:**\n",
            "\n",
            "* Determine a resolução e a taxa de quadros desejadas para seus jogos.\n",
            "* Pesquise diferentes placas gráficas e compare seu desempenho.\n",
            "* Considere a capacidade de atualização do computador para futuras expansões.\n",
            "* Verifique as avaliações de usuários para obter insights sobre desempenho e confiabilidade.\n",
            "* Compre em revendedores confiáveis para garantir a qualidade e o atendimento ao cliente.\n"
          ]
        }
      ]
    },
    {
      "cell_type": "markdown",
      "source": [
        "Subir para o GitHub"
      ],
      "metadata": {
        "id": "eh6GfbuM1oXq"
      }
    }
  ]
}